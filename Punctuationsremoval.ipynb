{
 "cells": [
  {
   "cell_type": "code",
   "execution_count": 1,
   "id": "edf1302e-17ef-4bb3-b8cb-58dc66d915a3",
   "metadata": {},
   "outputs": [
    {
     "name": "stdout",
     "output_type": "stream",
     "text": [
      "Requirement already satisfied: nltk in c:\\users\\babar\\anaconda3\\envs\\tensorfow\\lib\\site-packages (3.9.1)\n",
      "Requirement already satisfied: click in c:\\users\\babar\\anaconda3\\envs\\tensorfow\\lib\\site-packages (from nltk) (8.1.7)\n",
      "Requirement already satisfied: joblib in c:\\users\\babar\\anaconda3\\envs\\tensorfow\\lib\\site-packages (from nltk) (1.4.2)\n",
      "Requirement already satisfied: regex>=2021.8.3 in c:\\users\\babar\\anaconda3\\envs\\tensorfow\\lib\\site-packages (from nltk) (2024.7.24)\n",
      "Requirement already satisfied: tqdm in c:\\users\\babar\\anaconda3\\envs\\tensorfow\\lib\\site-packages (from nltk) (4.66.5)\n",
      "Requirement already satisfied: colorama in c:\\users\\babar\\anaconda3\\envs\\tensorfow\\lib\\site-packages (from click->nltk) (0.4.6)\n"
     ]
    }
   ],
   "source": [
    "!pip install nltk"
   ]
  },
  {
   "cell_type": "code",
   "execution_count": 3,
   "id": "16b2c348-e15c-4e85-9786-fc830c600c93",
   "metadata": {},
   "outputs": [
    {
     "name": "stdout",
     "output_type": "stream",
     "text": [
      "['This', 'is', 'a', 'sample', 'sentence', 'showing', 'off', 'the', 'stop', 'words', 'filtration']\n"
     ]
    },
    {
     "name": "stderr",
     "output_type": "stream",
     "text": [
      "[nltk_data] Downloading package punkt to C:\\Users\\babar/nltk_data...\n",
      "[nltk_data]   Package punkt is already up-to-date!\n"
     ]
    }
   ],
   "source": [
    "import re \n",
    "import nltk\n",
    "from nltk.tokenize import word_tokenize\n",
    "nltk.download('punkt')\n",
    "text='This is a sample sentence, showing off the stop words filtration.'\n",
    "tokens=word_tokenize(text)\n",
    "cleaned_tokens=[re.sub(r'[^\\w\\s]','',token) for token in tokens\n",
    "if re.sub(r'[^\\w\\s]', '',token)]\n",
    "print(cleaned_tokens)"
   ]
  },
  {
   "cell_type": "code",
   "execution_count": 4,
   "id": "cbbdec29-252e-4ee0-abdc-771c6342696e",
   "metadata": {},
   "outputs": [
    {
     "name": "stdout",
     "output_type": "stream",
     "text": [
      "['This', 'is', 'another', 'example', 'Notice', 'it', 'removes', 'punctuation']\n"
     ]
    }
   ],
   "source": [
    "from nltk.tokenize import RegexpTokenizer\n",
    "tokenizer=RegexpTokenizer(r'\\w+')\n",
    "text='This is another example! Notice: it removes punctuation.'\n",
    "tokens=tokenizer.tokenize(text)\n",
    "print(tokens)"
   ]
  },
  {
   "cell_type": "markdown",
   "id": "5c554127-f52e-4323-98b9-f69c4a389ba6",
   "metadata": {},
   "source": [
    "Lrmmatizer in natural language "
   ]
  },
  {
   "cell_type": "code",
   "execution_count": 6,
   "id": "07e2bf02-a737-4e29-a351-77d7a0f5d40b",
   "metadata": {},
   "outputs": [
    {
     "name": "stdout",
     "output_type": "stream",
     "text": [
      "rocks: rock\n",
      "Corpora: corpus\n"
     ]
    }
   ],
   "source": [
    "from nltk.stem import WordNetLemmatizer\n",
    "lemmatizer=WordNetLemmatizer()\n",
    "print('rocks:', lemmatizer.lemmatize('rocks'))\n",
    "print('Corpora:', lemmatizer.lemmatize('corpora'))"
   ]
  },
  {
   "cell_type": "code",
   "execution_count": null,
   "id": "ad5f8f1b-4d83-41c7-babd-4f4d7863f277",
   "metadata": {},
   "outputs": [],
   "source": []
  }
 ],
 "metadata": {
  "kernelspec": {
   "display_name": "Python 3 (ipykernel)",
   "language": "python",
   "name": "python3"
  },
  "language_info": {
   "codemirror_mode": {
    "name": "ipython",
    "version": 3
   },
   "file_extension": ".py",
   "mimetype": "text/x-python",
   "name": "python",
   "nbconvert_exporter": "python",
   "pygments_lexer": "ipython3",
   "version": "3.8.18"
  }
 },
 "nbformat": 4,
 "nbformat_minor": 5
}
